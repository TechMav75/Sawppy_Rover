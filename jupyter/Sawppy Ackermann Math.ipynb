{
 "cells": [
  {
   "cell_type": "markdown",
   "metadata": {},
   "source": [
    "# Sawppy Ackermann Math\n",
    "This Jupyter notebook works through the process of calculating the angle and velocity for every Sawppy wheel in response to a command to move the entire rover at a particular angular and linear velocity.\n",
    "\n",
    "##  Setup\n",
    "Sawppy chassis is represented by a list of six wheels, each listing a human-readable name and the X,Y coordinates relative to rover's center of motion."
   ]
  },
  {
   "cell_type": "code",
   "execution_count": 1,
   "metadata": {},
   "outputs": [],
   "source": [
    "# Sawppy chassis geometry (in meters)\n",
    "SAWPPY_WHEELBASE_FRONT = 0.285\n",
    "SAWPPY_WHEELBASE_MID = 0\n",
    "SAWPPY_WHEELBASE_REAR = -0.257\n",
    "SAWPPY_TRACK_FRONT = 0.23\n",
    "SAWPPY_TRACK_MID = 0.26\n",
    "SAWPPY_TRACK_REAR = 0.23"
   ]
  },
  {
   "cell_type": "code",
   "execution_count": 2,
   "metadata": {},
   "outputs": [],
   "source": [
    "class ChassisWheel(object):\n",
    "    \"\"\"Information needed to calculate angle and speed for a specific wheel.\n",
    "    Axis orientation conforms to REP103. (+X is forward, +Y is left, +Z is up)\n",
    "    https://www.ros.org/reps/rep-0103.html\n",
    "    \"\"\"\n",
    "\n",
    "    def __init__(self, name, offset_front, offset_left):\n",
    "        \"\"\"Initialize a chassis wheel instance with X & Y relative to center.\n",
    "        Args:\n",
    "            name : name for this wheel\n",
    "            offset_front : front/back relative to center, positive forward.\n",
    "            offset_left : left/right relative to center, positive left.\n",
    "        \"\"\"\n",
    "        self.name = name\n",
    "        self.offset_front = offset_front\n",
    "        self.offset_left = offset_left"
   ]
  },
  {
   "cell_type": "code",
   "execution_count": 3,
   "metadata": {},
   "outputs": [],
   "source": [
    "class ChassisWheelAngleSpeed(object):\n",
    "    \"\"\"Results of chassis geometry calculation for the named wheel.\"\"\"\n",
    "\n",
    "    def __init__(self, name, angle, velocity):\n",
    "        \"\"\"Initialize a chassis wheel with desired angle and velocity.\n",
    "        Args:\n",
    "            name : name for this wheel\n",
    "            angle : steering angle for this wheel in radians.\n",
    "            velocity : rolling velocity for this wheel in meters/second\n",
    "        \"\"\"\n",
    "        self.name = name\n",
    "        self.angle = angle\n",
    "        self.velocity = velocity"
   ]
  },
  {
   "cell_type": "code",
   "execution_count": 4,
   "metadata": {},
   "outputs": [],
   "source": [
    "test_chassis = []\n",
    "test_chassis.append(\n",
    "    ChassisWheel(\n",
    "        'front_left',  SAWPPY_WHEELBASE_FRONT,  SAWPPY_TRACK_FRONT,\n",
    "        ),\n",
    "    )\n",
    "test_chassis.append(\n",
    "    ChassisWheel(\n",
    "        'front_right', SAWPPY_WHEELBASE_FRONT, -SAWPPY_TRACK_FRONT,\n",
    "        ),\n",
    "    )\n",
    "test_chassis.append(\n",
    "    ChassisWheel(\n",
    "        'mid_left',      SAWPPY_WHEELBASE_MID,  SAWPPY_TRACK_MID,\n",
    "        ),\n",
    "    )\n",
    "test_chassis.append(\n",
    "    ChassisWheel(\n",
    "        'mid_right',     SAWPPY_WHEELBASE_MID, -SAWPPY_TRACK_MID,\n",
    "        ),\n",
    "    )\n",
    "test_chassis.append(\n",
    "    ChassisWheel(\n",
    "        'rear_left',    SAWPPY_WHEELBASE_REAR,  SAWPPY_TRACK_REAR,\n",
    "        ),\n",
    "    )\n",
    "test_chassis.append(\n",
    "    ChassisWheel(\n",
    "        'rear_right',   SAWPPY_WHEELBASE_REAR, -SAWPPY_TRACK_REAR,\n",
    "        ),\n",
    "    )\n",
    "        "
   ]
  },
  {
   "cell_type": "markdown",
   "metadata": {},
   "source": [
    "## Input"
   ]
  },
  {
   "cell_type": "code",
   "execution_count": 51,
   "metadata": {},
   "outputs": [],
   "source": [
    "import math\n",
    "\n",
    "# Commanded inputs\n",
    "velocityAngular = -0.2*math.pi # radians/sec\n",
    "velocityLinear = 0 # meters/sec"
   ]
  },
  {
   "cell_type": "markdown",
   "metadata": {},
   "source": [
    "## Calculation"
   ]
  },
  {
   "cell_type": "markdown",
   "metadata": {},
   "source": [
    "### Center of turn\n",
    "\n",
    "Consider the state of the robot after one second of traveling at commanded `velocityAngular` and `velocityLinear`. It would be pointing at `velocityAngular` radians off of +X axis (marking forward) and have covered `velocityLinear` distance. This describes an arc. Where is the center of the arc?\n",
    "\n",
    "One way to think about this problem is to consider the case where angular velocity is `2*pi`. After one second, the robot has traveled in a complete circle and `velocityLinear` is the circumference of that circle. Distance to the center of this circle would therefore be the radius, or `velocityLinear/2*pi`\n",
    "\n",
    "This formula holds for other values of `velocityAngular`. The linear distance traveled is some fraction of a circle, and dividing by the angular velocity returns the center of that circle.\n",
    "\n",
    "If `velocityAngular` is zero, we are traveling straight forward which is mathematically equivalent to a circle with infinite radius. This is set as our default value."
   ]
  },
  {
   "cell_type": "code",
   "execution_count": 52,
   "metadata": {},
   "outputs": [
    {
     "name": "stdout",
     "output_type": "stream",
     "text": [
      "-0.0\n"
     ]
    }
   ],
   "source": [
    "turnCenter = math.inf\n",
    "if velocityAngular != 0:\n",
    "    turnCenter = velocityLinear / velocityAngular\n",
    "print(turnCenter)"
   ]
  },
  {
   "cell_type": "markdown",
   "metadata": {},
   "source": [
    "### Wheel Angle and Velocity\n",
    "Once the center of turn has been calculated, we can calculate the angle and distance from that point to each wheel.\n",
    "The angle becomes the [Ackermann steering angle](https://en.wikipedia.org/wiki/Ackermann_steering_geometry) for that wheel.\n",
    "The distance is compared with the center of turn, and the ratio determines velocity for that wheel."
   ]
  },
  {
   "cell_type": "code",
   "execution_count": 53,
   "metadata": {},
   "outputs": [],
   "source": [
    "calculated_results = []\n",
    "for wheel in test_chassis:\n",
    "    if turnCenter == math.inf:\n",
    "        # Heading directly forward or back\n",
    "        wheel_angle = 0\n",
    "        wheel_velocity = velocityLinear\n",
    "    else:\n",
    "        # Dimensions of a trialge representing the wheel relative to center of turn.\n",
    "        opposite = wheel.offset_front\n",
    "        adjacent = turnCenter - wheel.offset_left\n",
    "        hypotenuse = math.sqrt(pow(opposite,2)+pow(adjacent,2))\n",
    "        if wheel.offset_front == 0:\n",
    "            wheel_angle = 0\n",
    "        else:\n",
    "            wheel_angle = math.atan(opposite / adjacent)\n",
    "        if velocityLinear == 0:\n",
    "            wheel_velocity = velocityAngular * hypotenuse\n",
    "        else:\n",
    "            wheel_velocity = math.copysign(velocityAngular * hypotenuse, velocityLinear)\n",
    "        # If center of turn is inside the wheel, we need to reverse direction.\n",
    "        if (turnCenter >= 0 and wheel.offset_left > 0 and wheel.offset_left > turnCenter) or \\\n",
    "           (turnCenter < 0 and wheel.offset_left < 0 and wheel.offset_left < turnCenter):\n",
    "            wheel_velocity = wheel_velocity * -1\n",
    "    calculated_results.append(ChassisWheelAngleSpeed(wheel.name, wheel_angle, wheel_velocity))"
   ]
  },
  {
   "cell_type": "code",
   "execution_count": 54,
   "metadata": {
    "tags": []
   },
   "outputs": [
    {
     "data": {
      "text/plain": [
       "(-0.4, 0.4, -0.4, 0.4)"
      ]
     },
     "execution_count": 54,
     "metadata": {},
     "output_type": "execute_result"
    },
    {
     "data": {
      "image/png": "[encoded data removed]",
      "text/plain": [
       "<Figure size 432x288 with 1 Axes>"
      ]
     },
     "metadata": {
      "needs_background": "light"
     },
     "output_type": "display_data"
    }
   ],
   "source": [
    "import matplotlib.pyplot as plt\n",
    "# if using a Jupyter notebook, include:\n",
    "%matplotlib inline\n",
    "\n",
    "plot_x = []\n",
    "plot_y = []\n",
    "plot_u = []\n",
    "plot_v = []\n",
    "wheel_state = dict()\n",
    "\n",
    "for wheel in test_chassis:\n",
    "    wheel_state[wheel.name] = dict()\n",
    "    wheel_state[wheel.name]['x'] = wheel.offset_front\n",
    "    wheel_state[wheel.name]['y'] = wheel.offset_left\n",
    "    wheel_state[wheel.name]['hypotenuse'] = math.sqrt(pow(wheel.offset_front,2)+pow(wheel.offset_left,2))\n",
    "for wheel in calculated_results:\n",
    "    plot_x.append(wheel_state[wheel.name]['x'])\n",
    "    plot_y.append(wheel_state[wheel.name]['y'])\n",
    "    wheel_state[wheel.name]['angle'] = wheel.angle\n",
    "    wheel_state[wheel.name]['velocity'] = wheel.velocity\n",
    "    plot_u.append(math.cos(wheel.angle)*wheel.velocity)\n",
    "    plot_v.append(math.sin(wheel.angle)*wheel.velocity)\n",
    "\n",
    "fig, ax = plt.subplots()\n",
    "ax.set_title('Sawppy wheel angle and velocity')\n",
    "ax.quiver(plot_x, plot_y, plot_u, plot_v)\n",
    "ax.axis([-0.4, 0.4, -0.4, 0.4])"
   ]
  },
  {
   "cell_type": "markdown",
   "metadata": {},
   "source": [
    "Print the input and output of this particular scenario in a format suitable for the unit test data file `chassis_wheel_calculator_tests.csv`"
   ]
  },
  {
   "cell_type": "code",
   "execution_count": 9,
   "metadata": {},
   "outputs": [
    {
     "name": "stdout",
     "output_type": "stream",
     "text": [
      "-0.314159, 0.100000,-0.479345, 0.194136,-1.270319, 0.093735, 0.000000, 0.181681, 0.000000, 0.018319, 0.438306, 0.190240, 1.239818, 0.085373\n"
     ]
    }
   ],
   "source": [
    "print('{: .6f},{: .6f},{: .6f},{: .6f},{: .6f},{: .6f},{: .6f},{: .6f},{: .6f},{: .6f},{: .6f},{: .6f},{: .6f},{: .6f}'.format(\n",
    "velocityAngular, velocityLinear,\n",
    "wheel_state['front_left']['angle'],\n",
    "wheel_state['front_left']['velocity'],\n",
    "wheel_state['front_right']['angle'],\n",
    "wheel_state['front_right']['velocity'],\n",
    "wheel_state['mid_left']['angle'],\n",
    "wheel_state['mid_left']['velocity'],\n",
    "wheel_state['mid_right']['angle'],\n",
    "wheel_state['mid_right']['velocity'],\n",
    "wheel_state['rear_left']['angle'],\n",
    "wheel_state['rear_left']['velocity'],\n",
    "wheel_state['rear_right']['angle'],\n",
    "wheel_state['rear_right']['velocity']))"
   ]
  },
  {
   "cell_type": "code",
   "execution_count": null,
   "metadata": {},
   "outputs": [],
   "source": []
  }
 ],
 "metadata": {
  "kernelspec": {
   "display_name": "Python 3",
   "language": "python",
   "name": "python3"
  },
  "language_info": {
   "codemirror_mode": {
    "name": "ipython",
    "version": 3
   },
   "file_extension": ".py",
   "mimetype": "text/x-python",
   "name": "python",
   "nbconvert_exporter": "python",
   "pygments_lexer": "ipython3",
   "version": "3.8.8"
  }
 },
 "nbformat": 4,
 "nbformat_minor": 4
}
